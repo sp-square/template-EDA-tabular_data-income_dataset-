{
 "cells": [
  {
   "cell_type": "markdown",
   "id": "3b015663",
   "metadata": {},
   "source": [
    "# Pre-Modeling: Data Preprocessing and Feature Exploration in Python"
   ]
  },
  {
   "cell_type": "markdown",
   "id": "d107045c",
   "metadata": {},
   "source": [
    "## Goal"
   ]
  },
  {
   "cell_type": "markdown",
   "id": "a6d0bb77",
   "metadata": {},
   "source": [
    "- Goal:\n",
    "    - Pre-modeling/modeling 80%/20% of work\n",
    "    - Show the importance of data preprocessing, feature exploration, and feature engineering on model performance\n",
    "    - Go over a few effective pre-modeling steps\n",
    "    - This is only a small subset of pre-modeling\n",
    "- Python libraries:\n",
    "    - Numpy\n",
    "    - Pandas\n",
    "    - Sci-kit learn\n",
    "    - Matplotlib\n",
    "    - Almost entire workflow is covered by these four libraries\n",
    "<br>\n",
    "- Source of 'adult' dataset: https://archive.ics.uci.edu/ml/datasets/Adult"
   ]
  },
  {
   "cell_type": "markdown",
   "id": "89e45045",
   "metadata": {},
   "source": [
    "## Part 1: Modeling Overview"
   ]
  },
  {
   "cell_type": "markdown",
   "id": "14029ce3",
   "metadata": {},
   "source": [
    "### Review of predictive modeling"
   ]
  },
  {
   "cell_type": "markdown",
   "id": "256d1f63",
   "metadata": {},
   "source": [
    "- __Definition__\n",
    "    - Statistical technique to predict unknown outcomes\n",
    "    - This example:\n",
    "        - Binary classification model - determine the probability that an observation belongs to one or two groups\n",
    "        - Examples:\n",
    "            - Whether a person votes for one of two political candidates\n",
    "            - Whether or not a credit card transaction is fraud\n",
    "            - Whther or not a person will be diagnosed with a given disease in the next year"
   ]
  },
  {
   "cell_type": "markdown",
   "id": "989d123b",
   "metadata": {},
   "source": [
    "- __Data terminology__\n",
    "    - Inputs - independent variables (also called features)\n",
    "        - Predictors\n",
    "    - Outputs - dependent variable (also called the outcome)\n",
    "        - The target variable for prediction\n",
    "    - Models explain the effect that features have on the outcome"
   ]
  },
  {
   "cell_type": "markdown",
   "id": "0334397f",
   "metadata": {},
   "source": [
    "- __Assessing model performance__\n",
    "    - Randomly split observations into train/test sets\n",
    "    - Build model on train set and assess performance on test set\n",
    "    - AUC of ROC is common performance metric\n",
    "        - true positive vs. false positive rates"
   ]
  },
  {
   "cell_type": "markdown",
   "id": "7398e8f6",
   "metadata": {},
   "source": [
    "- __Types of models for binary classification__\n",
    "    - Logistic regression\n",
    "    - Random Forest\n",
    "    - Gradient Boosted Trees\n",
    "    - Support Vector Machines\n",
    "    - Many, many more"
   ]
  },
  {
   "cell_type": "markdown",
   "id": "bc66311f",
   "metadata": {},
   "source": [
    "## Part 2: Introduce the Data"
   ]
  },
  {
   "cell_type": "markdown",
   "id": "b18c046a",
   "metadata": {},
   "source": [
    "Task: Given attributes about a person, predict whether their income is <=50K or >50K"
   ]
  },
  {
   "cell_type": "code",
   "execution_count": 1,
   "id": "dbe8517a",
   "metadata": {},
   "outputs": [],
   "source": [
    "import numpy as np\n",
    "import pandas as pd"
   ]
  },
  {
   "cell_type": "code",
   "execution_count": 2,
   "id": "a233b109",
   "metadata": {},
   "outputs": [
    {
     "name": "stdout",
     "output_type": "stream",
     "text": [
      "<class 'pandas.core.frame.DataFrame'>\n",
      "RangeIndex: 32561 entries, 0 to 32560\n",
      "Data columns (total 15 columns):\n",
      " #   Column          Non-Null Count  Dtype \n",
      "---  ------          --------------  ----- \n",
      " 0   age             32561 non-null  int64 \n",
      " 1   workclass       30725 non-null  object\n",
      " 2   fnlwgt          32561 non-null  int64 \n",
      " 3   education       32561 non-null  object\n",
      " 4   education_num   32561 non-null  int64 \n",
      " 5   marital_status  32561 non-null  object\n",
      " 6   occupation      30718 non-null  object\n",
      " 7   relationship    32561 non-null  object\n",
      " 8   race            32561 non-null  object\n",
      " 9   sex             32561 non-null  object\n",
      " 10  capital_gain    32561 non-null  int64 \n",
      " 11  capital_loss    32561 non-null  int64 \n",
      " 12  hours_per_week  32561 non-null  int64 \n",
      " 13  native_country  31978 non-null  object\n",
      " 14  income          32561 non-null  object\n",
      "dtypes: int64(6), object(9)\n",
      "memory usage: 3.7+ MB\n"
     ]
    }
   ],
   "source": [
    "# Import data and take a look\n",
    "\n",
    "header_names = ['age', 'workclass', 'fnlwgt', 'education', 'education_num', 'marital_status', 'occupation',\n",
    "              'relationship', 'race', 'sex', 'capital_gain', 'capital_loss', 'hours_per_week', 'native_country',\n",
    "                'income']\n",
    "\n",
    "df = pd.read_csv('adult.data', names=header_names, na_values=['#NAME?'])\n",
    "\n",
    "df = df.replace(' ?', np.nan)\n",
    "df.info()"
   ]
  },
  {
   "cell_type": "code",
   "execution_count": 3,
   "id": "02f759f5",
   "metadata": {},
   "outputs": [
    {
     "data": {
      "text/html": [
       "<div>\n",
       "<style scoped>\n",
       "    .dataframe tbody tr th:only-of-type {\n",
       "        vertical-align: middle;\n",
       "    }\n",
       "\n",
       "    .dataframe tbody tr th {\n",
       "        vertical-align: top;\n",
       "    }\n",
       "\n",
       "    .dataframe thead th {\n",
       "        text-align: right;\n",
       "    }\n",
       "</style>\n",
       "<table border=\"1\" class=\"dataframe\">\n",
       "  <thead>\n",
       "    <tr style=\"text-align: right;\">\n",
       "      <th></th>\n",
       "      <th>age</th>\n",
       "      <th>workclass</th>\n",
       "      <th>fnlwgt</th>\n",
       "      <th>education</th>\n",
       "      <th>education_num</th>\n",
       "      <th>marital_status</th>\n",
       "      <th>occupation</th>\n",
       "      <th>relationship</th>\n",
       "      <th>race</th>\n",
       "      <th>sex</th>\n",
       "      <th>capital_gain</th>\n",
       "      <th>capital_loss</th>\n",
       "      <th>hours_per_week</th>\n",
       "      <th>native_country</th>\n",
       "      <th>income</th>\n",
       "    </tr>\n",
       "  </thead>\n",
       "  <tbody>\n",
       "    <tr>\n",
       "      <th>0</th>\n",
       "      <td>39</td>\n",
       "      <td>State-gov</td>\n",
       "      <td>77516</td>\n",
       "      <td>Bachelors</td>\n",
       "      <td>13</td>\n",
       "      <td>Never-married</td>\n",
       "      <td>Adm-clerical</td>\n",
       "      <td>Not-in-family</td>\n",
       "      <td>White</td>\n",
       "      <td>Male</td>\n",
       "      <td>2174</td>\n",
       "      <td>0</td>\n",
       "      <td>40</td>\n",
       "      <td>United-States</td>\n",
       "      <td>&lt;=50K</td>\n",
       "    </tr>\n",
       "    <tr>\n",
       "      <th>1</th>\n",
       "      <td>50</td>\n",
       "      <td>Self-emp-not-inc</td>\n",
       "      <td>83311</td>\n",
       "      <td>Bachelors</td>\n",
       "      <td>13</td>\n",
       "      <td>Married-civ-spouse</td>\n",
       "      <td>Exec-managerial</td>\n",
       "      <td>Husband</td>\n",
       "      <td>White</td>\n",
       "      <td>Male</td>\n",
       "      <td>0</td>\n",
       "      <td>0</td>\n",
       "      <td>13</td>\n",
       "      <td>United-States</td>\n",
       "      <td>&lt;=50K</td>\n",
       "    </tr>\n",
       "    <tr>\n",
       "      <th>2</th>\n",
       "      <td>38</td>\n",
       "      <td>Private</td>\n",
       "      <td>215646</td>\n",
       "      <td>HS-grad</td>\n",
       "      <td>9</td>\n",
       "      <td>Divorced</td>\n",
       "      <td>Handlers-cleaners</td>\n",
       "      <td>Not-in-family</td>\n",
       "      <td>White</td>\n",
       "      <td>Male</td>\n",
       "      <td>0</td>\n",
       "      <td>0</td>\n",
       "      <td>40</td>\n",
       "      <td>United-States</td>\n",
       "      <td>&lt;=50K</td>\n",
       "    </tr>\n",
       "    <tr>\n",
       "      <th>3</th>\n",
       "      <td>53</td>\n",
       "      <td>Private</td>\n",
       "      <td>234721</td>\n",
       "      <td>11th</td>\n",
       "      <td>7</td>\n",
       "      <td>Married-civ-spouse</td>\n",
       "      <td>Handlers-cleaners</td>\n",
       "      <td>Husband</td>\n",
       "      <td>Black</td>\n",
       "      <td>Male</td>\n",
       "      <td>0</td>\n",
       "      <td>0</td>\n",
       "      <td>40</td>\n",
       "      <td>United-States</td>\n",
       "      <td>&lt;=50K</td>\n",
       "    </tr>\n",
       "    <tr>\n",
       "      <th>4</th>\n",
       "      <td>28</td>\n",
       "      <td>Private</td>\n",
       "      <td>338409</td>\n",
       "      <td>Bachelors</td>\n",
       "      <td>13</td>\n",
       "      <td>Married-civ-spouse</td>\n",
       "      <td>Prof-specialty</td>\n",
       "      <td>Wife</td>\n",
       "      <td>Black</td>\n",
       "      <td>Female</td>\n",
       "      <td>0</td>\n",
       "      <td>0</td>\n",
       "      <td>40</td>\n",
       "      <td>Cuba</td>\n",
       "      <td>&lt;=50K</td>\n",
       "    </tr>\n",
       "  </tbody>\n",
       "</table>\n",
       "</div>"
      ],
      "text/plain": [
       "   age          workclass  fnlwgt   education  education_num  \\\n",
       "0   39          State-gov   77516   Bachelors             13   \n",
       "1   50   Self-emp-not-inc   83311   Bachelors             13   \n",
       "2   38            Private  215646     HS-grad              9   \n",
       "3   53            Private  234721        11th              7   \n",
       "4   28            Private  338409   Bachelors             13   \n",
       "\n",
       "        marital_status          occupation    relationship    race      sex  \\\n",
       "0        Never-married        Adm-clerical   Not-in-family   White     Male   \n",
       "1   Married-civ-spouse     Exec-managerial         Husband   White     Male   \n",
       "2             Divorced   Handlers-cleaners   Not-in-family   White     Male   \n",
       "3   Married-civ-spouse   Handlers-cleaners         Husband   Black     Male   \n",
       "4   Married-civ-spouse      Prof-specialty            Wife   Black   Female   \n",
       "\n",
       "   capital_gain  capital_loss  hours_per_week  native_country  income  \n",
       "0          2174             0              40   United-States   <=50K  \n",
       "1             0             0              13   United-States   <=50K  \n",
       "2             0             0              40   United-States   <=50K  \n",
       "3             0             0              40   United-States   <=50K  \n",
       "4             0             0              40            Cuba   <=50K  "
      ]
     },
     "execution_count": 3,
     "metadata": {},
     "output_type": "execute_result"
    }
   ],
   "source": [
    "df.head()"
   ]
  },
  {
   "cell_type": "code",
   "execution_count": 4,
   "id": "58d769a4",
   "metadata": {},
   "outputs": [
    {
     "data": {
      "text/plain": [
       "(32561, 15)"
      ]
     },
     "execution_count": 4,
     "metadata": {},
     "output_type": "execute_result"
    }
   ],
   "source": [
    "df.shape"
   ]
  },
  {
   "cell_type": "code",
   "execution_count": 5,
   "id": "02c4d673",
   "metadata": {},
   "outputs": [
    {
     "data": {
      "text/plain": [
       " <=50K    24720\n",
       " >50K      7841\n",
       "Name: income, dtype: int64"
      ]
     },
     "execution_count": 5,
     "metadata": {},
     "output_type": "execute_result"
    }
   ],
   "source": [
    "# Take a look at the outcome variable: 'income'\n",
    "df.income.value_counts()"
   ]
  },
  {
   "cell_type": "code",
   "execution_count": 6,
   "id": "c3b12951",
   "metadata": {},
   "outputs": [
    {
     "data": {
      "text/plain": [
       "array([' <=50K', ' >50K'], dtype=object)"
      ]
     },
     "execution_count": 6,
     "metadata": {},
     "output_type": "execute_result"
    }
   ],
   "source": [
    "df.income.unique()"
   ]
  },
  {
   "cell_type": "code",
   "execution_count": 7,
   "id": "70c3ea56",
   "metadata": {},
   "outputs": [
    {
     "name": "stderr",
     "output_type": "stream",
     "text": [
      "/var/folders/pp/6rmcj3hs5l75h5cs_9gktph00000gn/T/ipykernel_16601/2104380980.py:5: FutureWarning: In a future version of pandas all arguments of DataFrame.drop except for the argument 'labels' will be keyword-only\n",
      "  X = df.drop('income', 1)\n"
     ]
    }
   ],
   "source": [
    "# Assign outcome as 0 if income <=50K and as 1 if income >50K\n",
    "df['income'] = [0 if x.strip() == '<=50K' else 1 for x in df['income']]\n",
    "\n",
    "# Assign X as a DataFrame of features and y as a Series of the outcome variable\n",
    "X = df.drop('income', 1)\n",
    "y = df.income"
   ]
  },
  {
   "cell_type": "code",
   "execution_count": 8,
   "id": "975557ba",
   "metadata": {},
   "outputs": [
    {
     "data": {
      "text/html": [
       "<div>\n",
       "<style scoped>\n",
       "    .dataframe tbody tr th:only-of-type {\n",
       "        vertical-align: middle;\n",
       "    }\n",
       "\n",
       "    .dataframe tbody tr th {\n",
       "        vertical-align: top;\n",
       "    }\n",
       "\n",
       "    .dataframe thead th {\n",
       "        text-align: right;\n",
       "    }\n",
       "</style>\n",
       "<table border=\"1\" class=\"dataframe\">\n",
       "  <thead>\n",
       "    <tr style=\"text-align: right;\">\n",
       "      <th></th>\n",
       "      <th>age</th>\n",
       "      <th>workclass</th>\n",
       "      <th>fnlwgt</th>\n",
       "      <th>education</th>\n",
       "      <th>education_num</th>\n",
       "      <th>marital_status</th>\n",
       "      <th>occupation</th>\n",
       "      <th>relationship</th>\n",
       "      <th>race</th>\n",
       "      <th>sex</th>\n",
       "      <th>capital_gain</th>\n",
       "      <th>capital_loss</th>\n",
       "      <th>hours_per_week</th>\n",
       "      <th>native_country</th>\n",
       "      <th>income</th>\n",
       "    </tr>\n",
       "  </thead>\n",
       "  <tbody>\n",
       "    <tr>\n",
       "      <th>0</th>\n",
       "      <td>39</td>\n",
       "      <td>State-gov</td>\n",
       "      <td>77516</td>\n",
       "      <td>Bachelors</td>\n",
       "      <td>13</td>\n",
       "      <td>Never-married</td>\n",
       "      <td>Adm-clerical</td>\n",
       "      <td>Not-in-family</td>\n",
       "      <td>White</td>\n",
       "      <td>Male</td>\n",
       "      <td>2174</td>\n",
       "      <td>0</td>\n",
       "      <td>40</td>\n",
       "      <td>United-States</td>\n",
       "      <td>0</td>\n",
       "    </tr>\n",
       "    <tr>\n",
       "      <th>1</th>\n",
       "      <td>50</td>\n",
       "      <td>Self-emp-not-inc</td>\n",
       "      <td>83311</td>\n",
       "      <td>Bachelors</td>\n",
       "      <td>13</td>\n",
       "      <td>Married-civ-spouse</td>\n",
       "      <td>Exec-managerial</td>\n",
       "      <td>Husband</td>\n",
       "      <td>White</td>\n",
       "      <td>Male</td>\n",
       "      <td>0</td>\n",
       "      <td>0</td>\n",
       "      <td>13</td>\n",
       "      <td>United-States</td>\n",
       "      <td>0</td>\n",
       "    </tr>\n",
       "    <tr>\n",
       "      <th>2</th>\n",
       "      <td>38</td>\n",
       "      <td>Private</td>\n",
       "      <td>215646</td>\n",
       "      <td>HS-grad</td>\n",
       "      <td>9</td>\n",
       "      <td>Divorced</td>\n",
       "      <td>Handlers-cleaners</td>\n",
       "      <td>Not-in-family</td>\n",
       "      <td>White</td>\n",
       "      <td>Male</td>\n",
       "      <td>0</td>\n",
       "      <td>0</td>\n",
       "      <td>40</td>\n",
       "      <td>United-States</td>\n",
       "      <td>0</td>\n",
       "    </tr>\n",
       "    <tr>\n",
       "      <th>3</th>\n",
       "      <td>53</td>\n",
       "      <td>Private</td>\n",
       "      <td>234721</td>\n",
       "      <td>11th</td>\n",
       "      <td>7</td>\n",
       "      <td>Married-civ-spouse</td>\n",
       "      <td>Handlers-cleaners</td>\n",
       "      <td>Husband</td>\n",
       "      <td>Black</td>\n",
       "      <td>Male</td>\n",
       "      <td>0</td>\n",
       "      <td>0</td>\n",
       "      <td>40</td>\n",
       "      <td>United-States</td>\n",
       "      <td>0</td>\n",
       "    </tr>\n",
       "    <tr>\n",
       "      <th>4</th>\n",
       "      <td>28</td>\n",
       "      <td>Private</td>\n",
       "      <td>338409</td>\n",
       "      <td>Bachelors</td>\n",
       "      <td>13</td>\n",
       "      <td>Married-civ-spouse</td>\n",
       "      <td>Prof-specialty</td>\n",
       "      <td>Wife</td>\n",
       "      <td>Black</td>\n",
       "      <td>Female</td>\n",
       "      <td>0</td>\n",
       "      <td>0</td>\n",
       "      <td>40</td>\n",
       "      <td>Cuba</td>\n",
       "      <td>0</td>\n",
       "    </tr>\n",
       "  </tbody>\n",
       "</table>\n",
       "</div>"
      ],
      "text/plain": [
       "   age          workclass  fnlwgt   education  education_num  \\\n",
       "0   39          State-gov   77516   Bachelors             13   \n",
       "1   50   Self-emp-not-inc   83311   Bachelors             13   \n",
       "2   38            Private  215646     HS-grad              9   \n",
       "3   53            Private  234721        11th              7   \n",
       "4   28            Private  338409   Bachelors             13   \n",
       "\n",
       "        marital_status          occupation    relationship    race      sex  \\\n",
       "0        Never-married        Adm-clerical   Not-in-family   White     Male   \n",
       "1   Married-civ-spouse     Exec-managerial         Husband   White     Male   \n",
       "2             Divorced   Handlers-cleaners   Not-in-family   White     Male   \n",
       "3   Married-civ-spouse   Handlers-cleaners         Husband   Black     Male   \n",
       "4   Married-civ-spouse      Prof-specialty            Wife   Black   Female   \n",
       "\n",
       "   capital_gain  capital_loss  hours_per_week  native_country  income  \n",
       "0          2174             0              40   United-States       0  \n",
       "1             0             0              13   United-States       0  \n",
       "2             0             0              40   United-States       0  \n",
       "3             0             0              40   United-States       0  \n",
       "4             0             0              40            Cuba       0  "
      ]
     },
     "execution_count": 8,
     "metadata": {},
     "output_type": "execute_result"
    }
   ],
   "source": [
    "df.head()"
   ]
  },
  {
   "cell_type": "code",
   "execution_count": 9,
   "id": "fa288680",
   "metadata": {},
   "outputs": [
    {
     "data": {
      "text/html": [
       "<div>\n",
       "<style scoped>\n",
       "    .dataframe tbody tr th:only-of-type {\n",
       "        vertical-align: middle;\n",
       "    }\n",
       "\n",
       "    .dataframe tbody tr th {\n",
       "        vertical-align: top;\n",
       "    }\n",
       "\n",
       "    .dataframe thead th {\n",
       "        text-align: right;\n",
       "    }\n",
       "</style>\n",
       "<table border=\"1\" class=\"dataframe\">\n",
       "  <thead>\n",
       "    <tr style=\"text-align: right;\">\n",
       "      <th></th>\n",
       "      <th>age</th>\n",
       "      <th>workclass</th>\n",
       "      <th>fnlwgt</th>\n",
       "      <th>education</th>\n",
       "      <th>education_num</th>\n",
       "      <th>marital_status</th>\n",
       "      <th>occupation</th>\n",
       "      <th>relationship</th>\n",
       "      <th>race</th>\n",
       "      <th>sex</th>\n",
       "      <th>capital_gain</th>\n",
       "      <th>capital_loss</th>\n",
       "      <th>hours_per_week</th>\n",
       "      <th>native_country</th>\n",
       "    </tr>\n",
       "  </thead>\n",
       "  <tbody>\n",
       "    <tr>\n",
       "      <th>0</th>\n",
       "      <td>39</td>\n",
       "      <td>State-gov</td>\n",
       "      <td>77516</td>\n",
       "      <td>Bachelors</td>\n",
       "      <td>13</td>\n",
       "      <td>Never-married</td>\n",
       "      <td>Adm-clerical</td>\n",
       "      <td>Not-in-family</td>\n",
       "      <td>White</td>\n",
       "      <td>Male</td>\n",
       "      <td>2174</td>\n",
       "      <td>0</td>\n",
       "      <td>40</td>\n",
       "      <td>United-States</td>\n",
       "    </tr>\n",
       "    <tr>\n",
       "      <th>1</th>\n",
       "      <td>50</td>\n",
       "      <td>Self-emp-not-inc</td>\n",
       "      <td>83311</td>\n",
       "      <td>Bachelors</td>\n",
       "      <td>13</td>\n",
       "      <td>Married-civ-spouse</td>\n",
       "      <td>Exec-managerial</td>\n",
       "      <td>Husband</td>\n",
       "      <td>White</td>\n",
       "      <td>Male</td>\n",
       "      <td>0</td>\n",
       "      <td>0</td>\n",
       "      <td>13</td>\n",
       "      <td>United-States</td>\n",
       "    </tr>\n",
       "    <tr>\n",
       "      <th>2</th>\n",
       "      <td>38</td>\n",
       "      <td>Private</td>\n",
       "      <td>215646</td>\n",
       "      <td>HS-grad</td>\n",
       "      <td>9</td>\n",
       "      <td>Divorced</td>\n",
       "      <td>Handlers-cleaners</td>\n",
       "      <td>Not-in-family</td>\n",
       "      <td>White</td>\n",
       "      <td>Male</td>\n",
       "      <td>0</td>\n",
       "      <td>0</td>\n",
       "      <td>40</td>\n",
       "      <td>United-States</td>\n",
       "    </tr>\n",
       "    <tr>\n",
       "      <th>3</th>\n",
       "      <td>53</td>\n",
       "      <td>Private</td>\n",
       "      <td>234721</td>\n",
       "      <td>11th</td>\n",
       "      <td>7</td>\n",
       "      <td>Married-civ-spouse</td>\n",
       "      <td>Handlers-cleaners</td>\n",
       "      <td>Husband</td>\n",
       "      <td>Black</td>\n",
       "      <td>Male</td>\n",
       "      <td>0</td>\n",
       "      <td>0</td>\n",
       "      <td>40</td>\n",
       "      <td>United-States</td>\n",
       "    </tr>\n",
       "    <tr>\n",
       "      <th>4</th>\n",
       "      <td>28</td>\n",
       "      <td>Private</td>\n",
       "      <td>338409</td>\n",
       "      <td>Bachelors</td>\n",
       "      <td>13</td>\n",
       "      <td>Married-civ-spouse</td>\n",
       "      <td>Prof-specialty</td>\n",
       "      <td>Wife</td>\n",
       "      <td>Black</td>\n",
       "      <td>Female</td>\n",
       "      <td>0</td>\n",
       "      <td>0</td>\n",
       "      <td>40</td>\n",
       "      <td>Cuba</td>\n",
       "    </tr>\n",
       "  </tbody>\n",
       "</table>\n",
       "</div>"
      ],
      "text/plain": [
       "   age          workclass  fnlwgt   education  education_num  \\\n",
       "0   39          State-gov   77516   Bachelors             13   \n",
       "1   50   Self-emp-not-inc   83311   Bachelors             13   \n",
       "2   38            Private  215646     HS-grad              9   \n",
       "3   53            Private  234721        11th              7   \n",
       "4   28            Private  338409   Bachelors             13   \n",
       "\n",
       "        marital_status          occupation    relationship    race      sex  \\\n",
       "0        Never-married        Adm-clerical   Not-in-family   White     Male   \n",
       "1   Married-civ-spouse     Exec-managerial         Husband   White     Male   \n",
       "2             Divorced   Handlers-cleaners   Not-in-family   White     Male   \n",
       "3   Married-civ-spouse   Handlers-cleaners         Husband   Black     Male   \n",
       "4   Married-civ-spouse      Prof-specialty            Wife   Black   Female   \n",
       "\n",
       "   capital_gain  capital_loss  hours_per_week  native_country  \n",
       "0          2174             0              40   United-States  \n",
       "1             0             0              13   United-States  \n",
       "2             0             0              40   United-States  \n",
       "3             0             0              40   United-States  \n",
       "4             0             0              40            Cuba  "
      ]
     },
     "execution_count": 9,
     "metadata": {},
     "output_type": "execute_result"
    }
   ],
   "source": [
    "X.head()"
   ]
  },
  {
   "cell_type": "code",
   "execution_count": 10,
   "id": "ccd292d3",
   "metadata": {},
   "outputs": [
    {
     "data": {
      "text/plain": [
       "0    0\n",
       "1    0\n",
       "2    0\n",
       "3    0\n",
       "4    0\n",
       "Name: income, dtype: int64"
      ]
     },
     "execution_count": 10,
     "metadata": {},
     "output_type": "execute_result"
    }
   ],
   "source": [
    "y.head()"
   ]
  },
  {
   "cell_type": "code",
   "execution_count": 11,
   "id": "ba321fbb",
   "metadata": {},
   "outputs": [
    {
     "data": {
      "text/plain": [
       "7841"
      ]
     },
     "execution_count": 11,
     "metadata": {},
     "output_type": "execute_result"
    }
   ],
   "source": [
    "y.sum()"
   ]
  },
  {
   "cell_type": "markdown",
   "id": "a91f1688",
   "metadata": {},
   "source": [
    "## Basic data cleaning"
   ]
  },
  {
   "cell_type": "markdown",
   "id": "61fdd3e1",
   "metadata": {},
   "source": [
    "### A. Dealing with data types"
   ]
  },
  {
   "cell_type": "markdown",
   "id": "406da70c",
   "metadata": {},
   "source": [
    "- There are three main data types:\n",
    "    - Numeric, e.g. income, age\n",
    "    - Categorical, e.g. gender, nationality\n",
    "    - Ordinal, e.g. low/medium/high\n",
    "- Models can only handle numeric features\n",
    "  \n",
    "- Must convert categorical and ordinal features into numeric features\n",
    "    - create dummy features\n",
    "    - transform a categorical feature into a set of dummy features, each representing a unique category\n",
    "    - in the set of dummy features, 1 indicates that the observation belongs to that category"
   ]
  },
  {
   "cell_type": "code",
   "execution_count": 12,
   "id": "971d8a41",
   "metadata": {},
   "outputs": [
    {
     "data": {
      "text/plain": [
       "0     Bachelors\n",
       "1     Bachelors\n",
       "2       HS-grad\n",
       "3          11th\n",
       "4     Bachelors\n",
       "Name: education, dtype: object"
      ]
     },
     "execution_count": 12,
     "metadata": {},
     "output_type": "execute_result"
    }
   ],
   "source": [
    "# Education is a categorical feature:\n",
    "X.education.head()"
   ]
  },
  {
   "cell_type": "code",
   "execution_count": 13,
   "id": "66635f72",
   "metadata": {},
   "outputs": [
    {
     "data": {
      "text/html": [
       "<div>\n",
       "<style scoped>\n",
       "    .dataframe tbody tr th:only-of-type {\n",
       "        vertical-align: middle;\n",
       "    }\n",
       "\n",
       "    .dataframe tbody tr th {\n",
       "        vertical-align: top;\n",
       "    }\n",
       "\n",
       "    .dataframe thead th {\n",
       "        text-align: right;\n",
       "    }\n",
       "</style>\n",
       "<table border=\"1\" class=\"dataframe\">\n",
       "  <thead>\n",
       "    <tr style=\"text-align: right;\">\n",
       "      <th></th>\n",
       "      <th>10th</th>\n",
       "      <th>11th</th>\n",
       "      <th>12th</th>\n",
       "      <th>1st-4th</th>\n",
       "      <th>5th-6th</th>\n",
       "      <th>7th-8th</th>\n",
       "      <th>9th</th>\n",
       "      <th>Assoc-acdm</th>\n",
       "      <th>Assoc-voc</th>\n",
       "      <th>Bachelors</th>\n",
       "      <th>Doctorate</th>\n",
       "      <th>HS-grad</th>\n",
       "      <th>Masters</th>\n",
       "      <th>Preschool</th>\n",
       "      <th>Prof-school</th>\n",
       "      <th>Some-college</th>\n",
       "    </tr>\n",
       "  </thead>\n",
       "  <tbody>\n",
       "    <tr>\n",
       "      <th>0</th>\n",
       "      <td>0</td>\n",
       "      <td>0</td>\n",
       "      <td>0</td>\n",
       "      <td>0</td>\n",
       "      <td>0</td>\n",
       "      <td>0</td>\n",
       "      <td>0</td>\n",
       "      <td>0</td>\n",
       "      <td>0</td>\n",
       "      <td>1</td>\n",
       "      <td>0</td>\n",
       "      <td>0</td>\n",
       "      <td>0</td>\n",
       "      <td>0</td>\n",
       "      <td>0</td>\n",
       "      <td>0</td>\n",
       "    </tr>\n",
       "    <tr>\n",
       "      <th>1</th>\n",
       "      <td>0</td>\n",
       "      <td>0</td>\n",
       "      <td>0</td>\n",
       "      <td>0</td>\n",
       "      <td>0</td>\n",
       "      <td>0</td>\n",
       "      <td>0</td>\n",
       "      <td>0</td>\n",
       "      <td>0</td>\n",
       "      <td>1</td>\n",
       "      <td>0</td>\n",
       "      <td>0</td>\n",
       "      <td>0</td>\n",
       "      <td>0</td>\n",
       "      <td>0</td>\n",
       "      <td>0</td>\n",
       "    </tr>\n",
       "    <tr>\n",
       "      <th>2</th>\n",
       "      <td>0</td>\n",
       "      <td>0</td>\n",
       "      <td>0</td>\n",
       "      <td>0</td>\n",
       "      <td>0</td>\n",
       "      <td>0</td>\n",
       "      <td>0</td>\n",
       "      <td>0</td>\n",
       "      <td>0</td>\n",
       "      <td>0</td>\n",
       "      <td>0</td>\n",
       "      <td>1</td>\n",
       "      <td>0</td>\n",
       "      <td>0</td>\n",
       "      <td>0</td>\n",
       "      <td>0</td>\n",
       "    </tr>\n",
       "    <tr>\n",
       "      <th>3</th>\n",
       "      <td>0</td>\n",
       "      <td>1</td>\n",
       "      <td>0</td>\n",
       "      <td>0</td>\n",
       "      <td>0</td>\n",
       "      <td>0</td>\n",
       "      <td>0</td>\n",
       "      <td>0</td>\n",
       "      <td>0</td>\n",
       "      <td>0</td>\n",
       "      <td>0</td>\n",
       "      <td>0</td>\n",
       "      <td>0</td>\n",
       "      <td>0</td>\n",
       "      <td>0</td>\n",
       "      <td>0</td>\n",
       "    </tr>\n",
       "    <tr>\n",
       "      <th>4</th>\n",
       "      <td>0</td>\n",
       "      <td>0</td>\n",
       "      <td>0</td>\n",
       "      <td>0</td>\n",
       "      <td>0</td>\n",
       "      <td>0</td>\n",
       "      <td>0</td>\n",
       "      <td>0</td>\n",
       "      <td>0</td>\n",
       "      <td>1</td>\n",
       "      <td>0</td>\n",
       "      <td>0</td>\n",
       "      <td>0</td>\n",
       "      <td>0</td>\n",
       "      <td>0</td>\n",
       "      <td>0</td>\n",
       "    </tr>\n",
       "  </tbody>\n",
       "</table>\n",
       "</div>"
      ],
      "text/plain": [
       "    10th   11th   12th   1st-4th   5th-6th   7th-8th   9th   Assoc-acdm  \\\n",
       "0      0      0      0         0         0         0     0            0   \n",
       "1      0      0      0         0         0         0     0            0   \n",
       "2      0      0      0         0         0         0     0            0   \n",
       "3      0      1      0         0         0         0     0            0   \n",
       "4      0      0      0         0         0         0     0            0   \n",
       "\n",
       "    Assoc-voc   Bachelors   Doctorate   HS-grad   Masters   Preschool  \\\n",
       "0           0           1           0         0         0           0   \n",
       "1           0           1           0         0         0           0   \n",
       "2           0           0           0         1         0           0   \n",
       "3           0           0           0         0         0           0   \n",
       "4           0           1           0         0         0           0   \n",
       "\n",
       "    Prof-school   Some-college  \n",
       "0             0              0  \n",
       "1             0              0  \n",
       "2             0              0  \n",
       "3             0              0  \n",
       "4             0              0  "
      ]
     },
     "execution_count": 13,
     "metadata": {},
     "output_type": "execute_result"
    }
   ],
   "source": [
    "# Use get_dummies in pandas\n",
    "# Another option: OneHotEncoder in sci-kit learn\n",
    "pd.get_dummies(X.education).head()"
   ]
  },
  {
   "cell_type": "code",
   "execution_count": 14,
   "id": "85ba481f",
   "metadata": {},
   "outputs": [
    {
     "name": "stdout",
     "output_type": "stream",
     "text": [
      "<class 'pandas.core.frame.DataFrame'>\n",
      "RangeIndex: 32561 entries, 0 to 32560\n",
      "Data columns (total 14 columns):\n",
      " #   Column          Non-Null Count  Dtype \n",
      "---  ------          --------------  ----- \n",
      " 0   age             32561 non-null  int64 \n",
      " 1   workclass       30725 non-null  object\n",
      " 2   fnlwgt          32561 non-null  int64 \n",
      " 3   education       32561 non-null  object\n",
      " 4   education_num   32561 non-null  int64 \n",
      " 5   marital_status  32561 non-null  object\n",
      " 6   occupation      30718 non-null  object\n",
      " 7   relationship    32561 non-null  object\n",
      " 8   race            32561 non-null  object\n",
      " 9   sex             32561 non-null  object\n",
      " 10  capital_gain    32561 non-null  int64 \n",
      " 11  capital_loss    32561 non-null  int64 \n",
      " 12  hours_per_week  32561 non-null  int64 \n",
      " 13  native_country  31978 non-null  object\n",
      "dtypes: int64(6), object(8)\n",
      "memory usage: 3.5+ MB\n"
     ]
    }
   ],
   "source": [
    "X.info()"
   ]
  },
  {
   "cell_type": "code",
   "execution_count": 15,
   "id": "14205c2f",
   "metadata": {},
   "outputs": [
    {
     "name": "stdout",
     "output_type": "stream",
     "text": [
      "Feature workclass has 9 unique categories\n",
      "Feature education has 16 unique categories\n",
      "Feature marital_status has 7 unique categories\n",
      "Feature occupation has 15 unique categories\n",
      "Feature relationship has 6 unique categories\n",
      "Feature race has 5 unique categories\n",
      "Feature sex has 2 unique categories\n",
      "Feature native_country has 42 unique categories\n"
     ]
    }
   ],
   "source": [
    "# Decide which categorical variables you want to use in model\n",
    "for col_name in X.columns:\n",
    "    if X[col_name].dtypes == 'object':\n",
    "        unique_cat = len(X[col_name].unique())\n",
    "        print(f'Feature {col_name} has {unique_cat} unique categories')"
   ]
  },
  {
   "cell_type": "code",
   "execution_count": 16,
   "id": "53ba89c8",
   "metadata": {},
   "outputs": [
    {
     "data": {
      "text/plain": [
       " United-States                 29170\n",
       " Mexico                          643\n",
       " Philippines                     198\n",
       " Germany                         137\n",
       " Canada                          121\n",
       " Puerto-Rico                     114\n",
       " El-Salvador                     106\n",
       " India                           100\n",
       " Cuba                             95\n",
       " England                          90\n",
       " Jamaica                          81\n",
       " South                            80\n",
       " China                            75\n",
       " Italy                            73\n",
       " Dominican-Republic               70\n",
       " Vietnam                          67\n",
       " Guatemala                        64\n",
       " Japan                            62\n",
       " Poland                           60\n",
       " Columbia                         59\n",
       " Taiwan                           51\n",
       " Haiti                            44\n",
       " Iran                             43\n",
       " Portugal                         37\n",
       " Nicaragua                        34\n",
       " Peru                             31\n",
       " France                           29\n",
       " Greece                           29\n",
       " Ecuador                          28\n",
       " Ireland                          24\n",
       " Hong                             20\n",
       " Trinadad&Tobago                  19\n",
       " Cambodia                         19\n",
       " Laos                             18\n",
       " Thailand                         18\n",
       " Yugoslavia                       16\n",
       " Outlying-US(Guam-USVI-etc)       14\n",
       " Honduras                         13\n",
       " Hungary                          13\n",
       " Scotland                         12\n",
       " Holand-Netherlands                1\n",
       "Name: native_country, dtype: int64"
      ]
     },
     "execution_count": 16,
     "metadata": {},
     "output_type": "execute_result"
    }
   ],
   "source": [
    "# Although 'native_country' has a lot of unique categories, most categories only have a few observations\n",
    "X.native_country.value_counts().sort_values(ascending=False)"
   ]
  },
  {
   "cell_type": "code",
   "execution_count": 17,
   "id": "638eac8d",
   "metadata": {},
   "outputs": [
    {
     "data": {
      "text/plain": [
       "array([' United-States', ' Cuba', ' Jamaica', ' India', nan, ' Mexico',\n",
       "       ' South', ' Puerto-Rico', ' Honduras', ' England', ' Canada',\n",
       "       ' Germany', ' Iran', ' Philippines', ' Italy', ' Poland',\n",
       "       ' Columbia', ' Cambodia', ' Thailand', ' Ecuador', ' Laos',\n",
       "       ' Taiwan', ' Haiti', ' Portugal', ' Dominican-Republic',\n",
       "       ' El-Salvador', ' France', ' Guatemala', ' China', ' Japan',\n",
       "       ' Yugoslavia', ' Peru', ' Outlying-US(Guam-USVI-etc)', ' Scotland',\n",
       "       ' Trinadad&Tobago', ' Greece', ' Nicaragua', ' Vietnam', ' Hong',\n",
       "       ' Ireland', ' Hungary', ' Holand-Netherlands'], dtype=object)"
      ]
     },
     "execution_count": 17,
     "metadata": {},
     "output_type": "execute_result"
    }
   ],
   "source": [
    "X.native_country.unique()"
   ]
  },
  {
   "cell_type": "code",
   "execution_count": 18,
   "id": "79f87dd7",
   "metadata": {},
   "outputs": [
    {
     "data": {
      "text/plain": [
       "United-States    29170\n",
       "Other             3391\n",
       "Name: native_country, dtype: int64"
      ]
     },
     "execution_count": 18,
     "metadata": {},
     "output_type": "execute_result"
    }
   ],
   "source": [
    "# In this case, bucket low frequency categories as 'Other'\n",
    "X.native_country = ['United-States' if (x == ' United-States') else 'Other' for x in X.native_country]\n",
    "X.native_country.value_counts().sort_values(ascending=False)"
   ]
  },
  {
   "cell_type": "code",
   "execution_count": 19,
   "id": "392e1594",
   "metadata": {},
   "outputs": [],
   "source": [
    "# Create a list of features to dummy\n",
    "todummy_list = ['workclass', 'education', 'marital_status', 'occupation', 'relationship', 'race', 'sex', 'native_country']\n"
   ]
  },
  {
   "cell_type": "code",
   "execution_count": 20,
   "id": "61a717f5",
   "metadata": {},
   "outputs": [],
   "source": [
    "# Function to dummy all the categorical variables used for modeling\n",
    "def dummy_df(df, todummy_list):\n",
    "    for x in todummy_list:\n",
    "        dummies = pd.get_dummies(df[x], prefix=x, dummy_na=False)\n",
    "        df = df.drop(x, 1)\n",
    "        df = pd.concat([df, dummies], axis=1)\n",
    "    return df"
   ]
  },
  {
   "cell_type": "code",
   "execution_count": 21,
   "id": "cab36378",
   "metadata": {},
   "outputs": [
    {
     "name": "stderr",
     "output_type": "stream",
     "text": [
      "/var/folders/pp/6rmcj3hs5l75h5cs_9gktph00000gn/T/ipykernel_16601/4137813488.py:5: FutureWarning: In a future version of pandas all arguments of DataFrame.drop except for the argument 'labels' will be keyword-only\n",
      "  df = df.drop(x, 1)\n"
     ]
    },
    {
     "data": {
      "text/html": [
       "<div>\n",
       "<style scoped>\n",
       "    .dataframe tbody tr th:only-of-type {\n",
       "        vertical-align: middle;\n",
       "    }\n",
       "\n",
       "    .dataframe tbody tr th {\n",
       "        vertical-align: top;\n",
       "    }\n",
       "\n",
       "    .dataframe thead th {\n",
       "        text-align: right;\n",
       "    }\n",
       "</style>\n",
       "<table border=\"1\" class=\"dataframe\">\n",
       "  <thead>\n",
       "    <tr style=\"text-align: right;\">\n",
       "      <th></th>\n",
       "      <th>age</th>\n",
       "      <th>fnlwgt</th>\n",
       "      <th>education_num</th>\n",
       "      <th>capital_gain</th>\n",
       "      <th>capital_loss</th>\n",
       "      <th>hours_per_week</th>\n",
       "      <th>workclass_ Federal-gov</th>\n",
       "      <th>workclass_ Local-gov</th>\n",
       "      <th>workclass_ Never-worked</th>\n",
       "      <th>workclass_ Private</th>\n",
       "      <th>...</th>\n",
       "      <th>relationship_ Wife</th>\n",
       "      <th>race_ Amer-Indian-Eskimo</th>\n",
       "      <th>race_ Asian-Pac-Islander</th>\n",
       "      <th>race_ Black</th>\n",
       "      <th>race_ Other</th>\n",
       "      <th>race_ White</th>\n",
       "      <th>sex_ Female</th>\n",
       "      <th>sex_ Male</th>\n",
       "      <th>native_country_Other</th>\n",
       "      <th>native_country_United-States</th>\n",
       "    </tr>\n",
       "  </thead>\n",
       "  <tbody>\n",
       "    <tr>\n",
       "      <th>0</th>\n",
       "      <td>39</td>\n",
       "      <td>77516</td>\n",
       "      <td>13</td>\n",
       "      <td>2174</td>\n",
       "      <td>0</td>\n",
       "      <td>40</td>\n",
       "      <td>0</td>\n",
       "      <td>0</td>\n",
       "      <td>0</td>\n",
       "      <td>0</td>\n",
       "      <td>...</td>\n",
       "      <td>0</td>\n",
       "      <td>0</td>\n",
       "      <td>0</td>\n",
       "      <td>0</td>\n",
       "      <td>0</td>\n",
       "      <td>1</td>\n",
       "      <td>0</td>\n",
       "      <td>1</td>\n",
       "      <td>0</td>\n",
       "      <td>1</td>\n",
       "    </tr>\n",
       "    <tr>\n",
       "      <th>1</th>\n",
       "      <td>50</td>\n",
       "      <td>83311</td>\n",
       "      <td>13</td>\n",
       "      <td>0</td>\n",
       "      <td>0</td>\n",
       "      <td>13</td>\n",
       "      <td>0</td>\n",
       "      <td>0</td>\n",
       "      <td>0</td>\n",
       "      <td>0</td>\n",
       "      <td>...</td>\n",
       "      <td>0</td>\n",
       "      <td>0</td>\n",
       "      <td>0</td>\n",
       "      <td>0</td>\n",
       "      <td>0</td>\n",
       "      <td>1</td>\n",
       "      <td>0</td>\n",
       "      <td>1</td>\n",
       "      <td>0</td>\n",
       "      <td>1</td>\n",
       "    </tr>\n",
       "    <tr>\n",
       "      <th>2</th>\n",
       "      <td>38</td>\n",
       "      <td>215646</td>\n",
       "      <td>9</td>\n",
       "      <td>0</td>\n",
       "      <td>0</td>\n",
       "      <td>40</td>\n",
       "      <td>0</td>\n",
       "      <td>0</td>\n",
       "      <td>0</td>\n",
       "      <td>1</td>\n",
       "      <td>...</td>\n",
       "      <td>0</td>\n",
       "      <td>0</td>\n",
       "      <td>0</td>\n",
       "      <td>0</td>\n",
       "      <td>0</td>\n",
       "      <td>1</td>\n",
       "      <td>0</td>\n",
       "      <td>1</td>\n",
       "      <td>0</td>\n",
       "      <td>1</td>\n",
       "    </tr>\n",
       "    <tr>\n",
       "      <th>3</th>\n",
       "      <td>53</td>\n",
       "      <td>234721</td>\n",
       "      <td>7</td>\n",
       "      <td>0</td>\n",
       "      <td>0</td>\n",
       "      <td>40</td>\n",
       "      <td>0</td>\n",
       "      <td>0</td>\n",
       "      <td>0</td>\n",
       "      <td>1</td>\n",
       "      <td>...</td>\n",
       "      <td>0</td>\n",
       "      <td>0</td>\n",
       "      <td>0</td>\n",
       "      <td>1</td>\n",
       "      <td>0</td>\n",
       "      <td>0</td>\n",
       "      <td>0</td>\n",
       "      <td>1</td>\n",
       "      <td>0</td>\n",
       "      <td>1</td>\n",
       "    </tr>\n",
       "    <tr>\n",
       "      <th>4</th>\n",
       "      <td>28</td>\n",
       "      <td>338409</td>\n",
       "      <td>13</td>\n",
       "      <td>0</td>\n",
       "      <td>0</td>\n",
       "      <td>40</td>\n",
       "      <td>0</td>\n",
       "      <td>0</td>\n",
       "      <td>0</td>\n",
       "      <td>1</td>\n",
       "      <td>...</td>\n",
       "      <td>1</td>\n",
       "      <td>0</td>\n",
       "      <td>0</td>\n",
       "      <td>1</td>\n",
       "      <td>0</td>\n",
       "      <td>0</td>\n",
       "      <td>1</td>\n",
       "      <td>0</td>\n",
       "      <td>1</td>\n",
       "      <td>0</td>\n",
       "    </tr>\n",
       "  </tbody>\n",
       "</table>\n",
       "<p>5 rows × 66 columns</p>\n",
       "</div>"
      ],
      "text/plain": [
       "   age  fnlwgt  education_num  capital_gain  capital_loss  hours_per_week  \\\n",
       "0   39   77516             13          2174             0              40   \n",
       "1   50   83311             13             0             0              13   \n",
       "2   38  215646              9             0             0              40   \n",
       "3   53  234721              7             0             0              40   \n",
       "4   28  338409             13             0             0              40   \n",
       "\n",
       "   workclass_ Federal-gov  workclass_ Local-gov  workclass_ Never-worked  \\\n",
       "0                       0                     0                        0   \n",
       "1                       0                     0                        0   \n",
       "2                       0                     0                        0   \n",
       "3                       0                     0                        0   \n",
       "4                       0                     0                        0   \n",
       "\n",
       "   workclass_ Private  ...  relationship_ Wife  race_ Amer-Indian-Eskimo  \\\n",
       "0                   0  ...                   0                         0   \n",
       "1                   0  ...                   0                         0   \n",
       "2                   1  ...                   0                         0   \n",
       "3                   1  ...                   0                         0   \n",
       "4                   1  ...                   1                         0   \n",
       "\n",
       "   race_ Asian-Pac-Islander  race_ Black  race_ Other  race_ White  \\\n",
       "0                         0            0            0            1   \n",
       "1                         0            0            0            1   \n",
       "2                         0            0            0            1   \n",
       "3                         0            1            0            0   \n",
       "4                         0            1            0            0   \n",
       "\n",
       "   sex_ Female  sex_ Male  native_country_Other  native_country_United-States  \n",
       "0            0          1                     0                             1  \n",
       "1            0          1                     0                             1  \n",
       "2            0          1                     0                             1  \n",
       "3            0          1                     0                             1  \n",
       "4            1          0                     1                             0  \n",
       "\n",
       "[5 rows x 66 columns]"
      ]
     },
     "execution_count": 21,
     "metadata": {},
     "output_type": "execute_result"
    }
   ],
   "source": [
    "X = dummy_df(X, todummy_list)\n",
    "X.head()"
   ]
  },
  {
   "cell_type": "markdown",
   "id": "f05432f5",
   "metadata": {},
   "source": [
    "### B. Handling missing data"
   ]
  },
  {
   "cell_type": "markdown",
   "id": "ca0c748b",
   "metadata": {},
   "source": [
    "- Models cannot handle missing data\n",
    "- Simplest solution: remove observations/features that have missing data\n",
    "- But, removing data can introduce a lot of issues:\n",
    "    - data is randomly missing: potentially lose a lot of your data\n",
    "    - data is non-randomly missing: in addition to losing data, you are also introducing potential biases\n",
    "    - usually, this is a poor solution\n",
    "- An alternative solution is to use imputation:\n",
    "    - replace missing value with another value\n",
    "    - strategies: mean, median, highest frequency value of given feature"
   ]
  },
  {
   "cell_type": "code",
   "execution_count": 22,
   "id": "db31c01f",
   "metadata": {},
   "outputs": [
    {
     "data": {
      "text/plain": [
       "age                          0\n",
       "occupation_ Tech-support     0\n",
       "marital_status_ Separated    0\n",
       "marital_status_ Widowed      0\n",
       "occupation_ Adm-clerical     0\n",
       "dtype: int64"
      ]
     },
     "execution_count": 22,
     "metadata": {},
     "output_type": "execute_result"
    }
   ],
   "source": [
    "# How much of the data is missing?\n",
    "X.isnull().sum().sort_values(ascending=False).head()"
   ]
  },
  {
   "cell_type": "markdown",
   "id": "1bfe4b1e",
   "metadata": {},
   "source": [
    "There are no missing values, but if there were, below is a way to deal with them:"
   ]
  },
  {
   "cell_type": "code",
   "execution_count": 23,
   "id": "110b3f15",
   "metadata": {},
   "outputs": [],
   "source": [
    "# Impute missing values using Imputer in sklearn.preprocessing\n",
    "from sklearn.impute import SimpleImputer\n",
    "\n",
    "imp = SimpleImputer(missing_values=np.nan, strategy='median')\n",
    "imp.fit(X)\n",
    "X = pd.DataFrame(data=imp.transform(X), columns=X.columns)"
   ]
  },
  {
   "cell_type": "code",
   "execution_count": 24,
   "id": "8298a451",
   "metadata": {},
   "outputs": [
    {
     "data": {
      "text/plain": [
       "age                          0\n",
       "occupation_ Tech-support     0\n",
       "marital_status_ Separated    0\n",
       "marital_status_ Widowed      0\n",
       "occupation_ Adm-clerical     0\n",
       "dtype: int64"
      ]
     },
     "execution_count": 24,
     "metadata": {},
     "output_type": "execute_result"
    }
   ],
   "source": [
    "# Check again to see if you still have missing data\n",
    "X.isnull().sum().sort_values(ascending=False).head()"
   ]
  },
  {
   "cell_type": "markdown",
   "id": "99c94607",
   "metadata": {},
   "source": [
    "## Part 4: More Data Exploration"
   ]
  },
  {
   "cell_type": "markdown",
   "id": "b5b8c7a0",
   "metadata": {},
   "source": [
    "- A large portion of the pre-modeling and modeling workflow can be generalized and automated\n",
    "- But understanding the problem, domain, and data is extremely important for building high performing models\n",
    "- This section covers some tools used for exploring the data to make smarter decisions"
   ]
  },
  {
   "cell_type": "markdown",
   "id": "2030fd61",
   "metadata": {},
   "source": [
    "### A. Outlier detection"
   ]
  },
  {
   "cell_type": "markdown",
   "id": "6a5c498a",
   "metadata": {},
   "source": [
    "- An outlier is an observation that deviates drastically from other observations in a dataset\n",
    "- Occurrence:\n",
    "    - Natural, e.g. Mark Zuckerberg's income\n",
    "    - Error, e.g. human weight of 2,000 lb. due to mistyping extra 0\n",
    "- Why are they problematic?\n",
    "    - Naturally occurring:\n",
    "        - Not necessarily problematic\n",
    "        - But can skew the model by affecting the slope\n",
    "    - Error:\n",
    "        - Indicative of data quality issues\n",
    "        - Treat in the same way as a missing value, i.e. use imputation\n",
    "- Many, many approaches for detecting outliers. Two of these are reviewed here:\n",
    "    - Tukey IQR\n",
    "    - Kernel density estimation"
   ]
  },
  {
   "cell_type": "markdown",
   "id": "340ceffb",
   "metadata": {},
   "source": [
    "#### Tukey IQR"
   ]
  },
  {
   "cell_type": "markdown",
   "id": "d4e9ad1c",
   "metadata": {},
   "source": [
    "- Identifies extreme values in data\n",
    "- Outliers are defined as values below Q1 - 1.5*(Q3-Q1), or above Q3 + 1.5*(Q3-Q1)\n",
    "- Standard deviation from the mean is another common method to detect extreme values, but it can be problematic:\n",
    "    - assumes normality\n",
    "    - sensitive to very extreme values"
   ]
  },
  {
   "cell_type": "code",
   "execution_count": 25,
   "id": "96fe11dd",
   "metadata": {},
   "outputs": [],
   "source": [
    "def find_outliers_tukey(x):\n",
    "    q1 = np.percentile(x, 25)\n",
    "    q3 = np.percentile(x, 75)\n",
    "    iqr = q3 - q1\n",
    "    floor = q1 - 1.5 * iqr\n",
    "    ceiling = q3 + 1.5 * iqr\n",
    "    outlier_indices = list(x.index[(x < floor) | (x > ceiling)])\n",
    "    outlier_values = list(x[outlier_indices])\n",
    "    \n",
    "    return outlier_indices, outlier_values"
   ]
  },
  {
   "cell_type": "code",
   "execution_count": 26,
   "id": "493b3abf",
   "metadata": {},
   "outputs": [
    {
     "data": {
      "text/plain": [
       "array([79., 79., 79., 79., 79., 79., 79., 79., 79., 79., 79., 79., 79.,\n",
       "       79., 79., 79., 79., 79., 79., 79., 79., 79., 80., 80., 80., 80.,\n",
       "       80., 80., 80., 80., 80., 80., 80., 80., 80., 80., 80., 80., 80.,\n",
       "       80., 80., 80., 80., 80., 81., 81., 81., 81., 81., 81., 81., 81.,\n",
       "       81., 81., 81., 81., 81., 81., 81., 81., 81., 81., 81., 81., 82.,\n",
       "       82., 82., 82., 82., 82., 82., 82., 82., 82., 82., 82., 83., 83.,\n",
       "       83., 83., 83., 83., 84., 84., 84., 84., 84., 84., 84., 84., 84.,\n",
       "       84., 85., 85., 85., 86., 87., 88., 88., 88., 90., 90., 90., 90.,\n",
       "       90., 90., 90., 90., 90., 90., 90., 90., 90., 90., 90., 90., 90.,\n",
       "       90., 90., 90., 90., 90., 90., 90., 90., 90., 90., 90., 90., 90.,\n",
       "       90., 90., 90., 90., 90., 90., 90., 90., 90., 90., 90., 90., 90.])"
      ]
     },
     "execution_count": 26,
     "metadata": {},
     "output_type": "execute_result"
    }
   ],
   "source": [
    "tukey_indices, tukey_values = find_outliers_tukey(X['age'])\n",
    "np.sort(tukey_values)"
   ]
  },
  {
   "cell_type": "markdown",
   "id": "541eb58d",
   "metadata": {},
   "source": [
    "#### Kernel Density Estimation"
   ]
  },
  {
   "cell_type": "markdown",
   "id": "96e085f0",
   "metadata": {},
   "source": [
    "- Non-parametric way to estimate the probability density function of a given feature\n",
    "- Can be advantageous compared to extreme value detection (e.g. Tukey IQR)\n",
    "    - Captures outliers in bimodal distributions"
   ]
  },
  {
   "cell_type": "code",
   "execution_count": 27,
   "id": "8cfaca57",
   "metadata": {},
   "outputs": [],
   "source": [
    "from sklearn.preprocessing import scale\n",
    "from statsmodels.nonparametric.kde import KDEUnivariate"
   ]
  },
  {
   "cell_type": "code",
   "execution_count": 28,
   "id": "e2ebc262",
   "metadata": {},
   "outputs": [],
   "source": [
    "def find_outliers_kde(x):\n",
    "    x_scaled = scale(list(map(float, x)))\n",
    "    kde = KDEUnivariate(x_scaled)\n",
    "    kde.fit(bw='scott', fft=True)\n",
    "    pred = kde.evaluate(x_scaled)\n",
    "    \n",
    "    n = sum(pred < 0.05)\n",
    "    outlier_ind = np.asarray(pred).argsort()[:n]\n",
    "    outlier_value = np.asarray(x)[outlier_ind]\n",
    "    \n",
    "    return outlier_ind, outlier_value"
   ]
  },
  {
   "cell_type": "code",
   "execution_count": 29,
   "id": "60190d87",
   "metadata": {},
   "outputs": [
    {
     "data": {
      "text/plain": [
       "array([69., 69., 69., 69., 69., 69., 69., 69., 69., 69., 69., 69., 69.,\n",
       "       69., 69., 69., 69., 69., 69., 69., 69., 69., 69., 69., 69., 69.,\n",
       "       69., 69., 69., 69., 69., 69., 69., 69., 69., 69., 69., 69., 69.,\n",
       "       69., 69., 69., 69., 69., 69., 69., 69., 69., 69., 69., 69., 69.,\n",
       "       69., 69., 69., 69., 69., 69., 69., 69., 69., 69., 69., 69., 69.,\n",
       "       69., 69., 69., 69., 69., 69., 69., 69., 69., 69., 69., 69., 69.,\n",
       "       69., 69., 69., 69., 69., 69., 69., 69., 69., 69., 69., 69., 69.,\n",
       "       69., 69., 69., 69., 69., 69., 69., 69., 69., 69., 69., 69., 69.,\n",
       "       69., 69., 69., 69., 70., 70., 70., 70., 70., 70., 70., 70., 70.,\n",
       "       70., 70., 70., 70., 70., 70., 70., 70., 70., 70., 70., 70., 70.,\n",
       "       70., 70., 70., 70., 70., 70., 70., 70., 70., 70., 70., 70., 70.,\n",
       "       70., 70., 70., 70., 70., 70., 70., 70., 70., 70., 70., 70., 70.,\n",
       "       70., 70., 70., 70., 70., 70., 70., 70., 70., 70., 70., 70., 70.,\n",
       "       70., 70., 70., 70., 70., 70., 70., 70., 70., 70., 70., 70., 70.,\n",
       "       70., 70., 70., 70., 70., 70., 70., 70., 70., 70., 70., 70., 70.,\n",
       "       70., 70., 71., 71., 71., 71., 71., 71., 71., 71., 71., 71., 71.,\n",
       "       71., 71., 71., 71., 71., 71., 71., 71., 71., 71., 71., 71., 71.,\n",
       "       71., 71., 71., 71., 71., 71., 71., 71., 71., 71., 71., 71., 71.,\n",
       "       71., 71., 71., 71., 71., 71., 71., 71., 71., 71., 71., 71., 71.,\n",
       "       71., 71., 71., 71., 71., 71., 71., 71., 71., 71., 71., 71., 71.,\n",
       "       71., 71., 71., 71., 71., 71., 71., 71., 71., 72., 72., 72., 72.,\n",
       "       72., 72., 72., 72., 72., 72., 72., 72., 72., 72., 72., 72., 72.,\n",
       "       72., 72., 72., 72., 72., 72., 72., 72., 72., 72., 72., 72., 72.,\n",
       "       72., 72., 72., 72., 72., 72., 72., 72., 72., 72., 72., 72., 72.,\n",
       "       72., 72., 72., 72., 72., 72., 72., 72., 72., 72., 72., 72., 72.,\n",
       "       72., 72., 72., 72., 72., 72., 72., 72., 72., 72., 72., 73., 73.,\n",
       "       73., 73., 73., 73., 73., 73., 73., 73., 73., 73., 73., 73., 73.,\n",
       "       73., 73., 73., 73., 73., 73., 73., 73., 73., 73., 73., 73., 73.,\n",
       "       73., 73., 73., 73., 73., 73., 73., 73., 73., 73., 73., 73., 73.,\n",
       "       73., 73., 73., 73., 73., 73., 73., 73., 73., 73., 73., 73., 73.,\n",
       "       73., 73., 73., 73., 73., 73., 73., 73., 73., 73., 74., 74., 74.,\n",
       "       74., 74., 74., 74., 74., 74., 74., 74., 74., 74., 74., 74., 74.,\n",
       "       74., 74., 74., 74., 74., 74., 74., 74., 74., 74., 74., 74., 74.,\n",
       "       74., 74., 74., 74., 74., 74., 74., 74., 74., 74., 74., 74., 74.,\n",
       "       74., 74., 74., 74., 74., 74., 74., 74., 74., 75., 75., 75., 75.,\n",
       "       75., 75., 75., 75., 75., 75., 75., 75., 75., 75., 75., 75., 75.,\n",
       "       75., 75., 75., 75., 75., 75., 75., 75., 75., 75., 75., 75., 75.,\n",
       "       75., 75., 75., 75., 75., 75., 75., 75., 75., 75., 75., 75., 75.,\n",
       "       75., 75., 76., 76., 76., 76., 76., 76., 76., 76., 76., 76., 76.,\n",
       "       76., 76., 76., 76., 76., 76., 76., 76., 76., 76., 76., 76., 76.,\n",
       "       76., 76., 76., 76., 76., 76., 76., 76., 76., 76., 76., 76., 76.,\n",
       "       76., 76., 76., 76., 76., 76., 76., 76., 76., 77., 77., 77., 77.,\n",
       "       77., 77., 77., 77., 77., 77., 77., 77., 77., 77., 77., 77., 77.,\n",
       "       77., 77., 77., 77., 77., 77., 77., 77., 77., 77., 77., 77., 78.,\n",
       "       78., 78., 78., 78., 78., 78., 78., 78., 78., 78., 78., 78., 78.,\n",
       "       78., 78., 78., 78., 78., 78., 78., 78., 78., 79., 79., 79., 79.,\n",
       "       79., 79., 79., 79., 79., 79., 79., 79., 79., 79., 79., 79., 79.,\n",
       "       79., 79., 79., 79., 79., 80., 80., 80., 80., 80., 80., 80., 80.,\n",
       "       80., 80., 80., 80., 80., 80., 80., 80., 80., 80., 80., 80., 80.,\n",
       "       80., 81., 81., 81., 81., 81., 81., 81., 81., 81., 81., 81., 81.,\n",
       "       81., 81., 81., 81., 81., 81., 81., 81., 82., 82., 82., 82., 82.,\n",
       "       82., 82., 82., 82., 82., 82., 82., 83., 83., 83., 83., 83., 83.,\n",
       "       84., 84., 84., 84., 84., 84., 84., 84., 84., 84., 85., 85., 85.,\n",
       "       86., 87., 88., 88., 88., 90., 90., 90., 90., 90., 90., 90., 90.,\n",
       "       90., 90., 90., 90., 90., 90., 90., 90., 90., 90., 90., 90., 90.,\n",
       "       90., 90., 90., 90., 90., 90., 90., 90., 90., 90., 90., 90., 90.,\n",
       "       90., 90., 90., 90., 90., 90., 90., 90., 90.])"
      ]
     },
     "execution_count": 29,
     "metadata": {},
     "output_type": "execute_result"
    }
   ],
   "source": [
    "kde_indices, kde_values = find_outliers_kde(X['age'])\n",
    "np.sort(kde_values)"
   ]
  },
  {
   "cell_type": "markdown",
   "id": "587c8013",
   "metadata": {},
   "source": [
    "### B. Distribution of Features"
   ]
  },
  {
   "cell_type": "markdown",
   "id": "402807dd",
   "metadata": {},
   "source": [
    "- A histogram is a simple representation of the distribution of values for a given feature\n",
    "- X-axis represents value bins and y-axis represents the frequency of an observation falling into that bin\n",
    "- It is also interesting to look at distributions broken up by outcome categories"
   ]
  },
  {
   "cell_type": "code",
   "execution_count": 30,
   "id": "33d9c70f",
   "metadata": {},
   "outputs": [],
   "source": [
    "# Use pyplot in matplotlib to plot histograms\n",
    "%matplotlib inline\n",
    "import matplotlib.pyplot as plt"
   ]
  },
  {
   "cell_type": "code",
   "execution_count": 31,
   "id": "d8daa565",
   "metadata": {},
   "outputs": [],
   "source": [
    "def plot_histogram(x):\n",
    "    plt.hist(x, color='gray', alpha=0.5)\n",
    "    plt.title(f'Histogram of {x.name}')\n",
    "    plt.xlabel('Value')\n",
    "    plt.ylabel('Frequency')\n",
    "    plt.show()"
   ]
  },
  {
   "cell_type": "code",
   "execution_count": 32,
   "id": "d549ee39",
   "metadata": {},
   "outputs": [
    {
     "data": {
      "image/png": "[encoded data removed]",
      "text/plain": [
       "<Figure size 432x288 with 1 Axes>"
      ]
     },
     "metadata": {
      "needs_background": "light"
     },
     "output_type": "display_data"
    }
   ],
   "source": [
    "plot_histogram(X['age'])"
   ]
  },
  {
   "cell_type": "code",
   "execution_count": 33,
   "id": "5d7867f5",
   "metadata": {},
   "outputs": [],
   "source": [
    "# Plot histograms to show distribution of features by DV categories\n",
    "def plot_histogram_dv(x,y):\n",
    "    plt.hist(list(x[y==0]), alpha=0.5, label='DV=0')\n",
    "    plt.hist(list(x[y==1]), alpha=0.5, label='DV=1')\n",
    "    plt.title(f'Histogram of {x.name} by DV Category')\n",
    "    plt.xlabel('Value')\n",
    "    plt.ylabel('Frequency')\n",
    "    plt.legend(loc='upper right')\n",
    "    plt.show()"
   ]
  },
  {
   "cell_type": "code",
   "execution_count": 34,
   "id": "07b99412",
   "metadata": {},
   "outputs": [
    {
     "data": {
      "image/png": "[encoded data removed]",
      "text/plain": [
       "<Figure size 432x288 with 1 Axes>"
      ]
     },
     "metadata": {
      "needs_background": "light"
     },
     "output_type": "display_data"
    }
   ],
   "source": [
    "plot_histogram_dv(X['age'], y)"
   ]
  },
  {
   "cell_type": "markdown",
   "id": "60796074",
   "metadata": {},
   "source": [
    "## Part 5: Feature Engineering"
   ]
  },
  {
   "cell_type": "markdown",
   "id": "a1cb6569",
   "metadata": {},
   "source": [
    "### A. Interactions amongst features (Increasing Dimensionality)"
   ]
  },
  {
   "cell_type": "markdown",
   "id": "fba30c2d",
   "metadata": {},
   "source": [
    "- A simple two-way interaction is represented by:\n",
    "    - X3 = X1 * X2, where X3 is the interaction between X1 and X2\n",
    "- Can add interaction terms as additional new features to the model; useful for model if the impact of two or more features on the outcome is non-additive\n",
    "- Example:\n",
    "    - interaction: education and political ideology; outcome: concerns about climate change\n",
    "    - while an increase in education amongst liberals or moderates increases concerns about climate change, an increase in education amongst conservatives has the opposite effect\n",
    "    - the education-political ideology interaction captures more than the two features alone\n",
    "- Note that the interactions amongst dummy variables belonging to the same categorical feature are always zero\n",
    "- Although it is very easy to calculate two-way interactions amongst all features, it is very computationally expensive:\n",
    "    - 10 features => 45 two-way interaction terms\n",
    "    - 50 features => 1,225 two-way interaction terms\n",
    "    - 100 features => 4,950 two-way interaction terms\n",
    "    - 500 features => 124,750 two-way interaction terms\n",
    "    - Recommend understanding your data and domain if possible and selectively choosing interaction terms"
   ]
  },
  {
   "cell_type": "code",
   "execution_count": 35,
   "id": "7d836450",
   "metadata": {},
   "outputs": [],
   "source": [
    "# Use PolynomialFeatures in sklearn.preprocessing to create two-way interactions for all features\n",
    "from itertools import combinations\n",
    "from sklearn.preprocessing import PolynomialFeatures"
   ]
  },
  {
   "cell_type": "code",
   "execution_count": 36,
   "id": "7534909f",
   "metadata": {},
   "outputs": [],
   "source": [
    "def add_interactions(df):\n",
    "    # Get feature names\n",
    "    combos = list(combinations(list(df.columns), 2))\n",
    "    colnames = list(df.columns) + ['_'.join(x) for x in combos]\n",
    "    \n",
    "    # Find interactions\n",
    "    poly = PolynomialFeatures(interaction_only=True, include_bias=False)\n",
    "    df = poly.fit_transform(df)\n",
    "    df = pd.DataFrame(df)\n",
    "    df.columns = colnames\n",
    "    \n",
    "    # Remove interactions terms with all 0 values\n",
    "    noint_indices = [i for i, x in enumerate(list((df == 0).all())) if x]\n",
    "    df = df.drop(df.columns[noint_indices], axis=1)\n",
    "    \n",
    "    return df"
   ]
  },
  {
   "cell_type": "code",
   "execution_count": 37,
   "id": "41a4e0e1",
   "metadata": {},
   "outputs": [
    {
     "data": {
      "text/html": [
       "<div>\n",
       "<style scoped>\n",
       "    .dataframe tbody tr th:only-of-type {\n",
       "        vertical-align: middle;\n",
       "    }\n",
       "\n",
       "    .dataframe tbody tr th {\n",
       "        vertical-align: top;\n",
       "    }\n",
       "\n",
       "    .dataframe thead th {\n",
       "        text-align: right;\n",
       "    }\n",
       "</style>\n",
       "<table border=\"1\" class=\"dataframe\">\n",
       "  <thead>\n",
       "    <tr style=\"text-align: right;\">\n",
       "      <th></th>\n",
       "      <th>age</th>\n",
       "      <th>fnlwgt</th>\n",
       "      <th>education_num</th>\n",
       "      <th>capital_gain</th>\n",
       "      <th>capital_loss</th>\n",
       "      <th>hours_per_week</th>\n",
       "      <th>workclass_ Federal-gov</th>\n",
       "      <th>workclass_ Local-gov</th>\n",
       "      <th>workclass_ Never-worked</th>\n",
       "      <th>workclass_ Private</th>\n",
       "      <th>...</th>\n",
       "      <th>race_ Other_native_country_Other</th>\n",
       "      <th>race_ Other_native_country_United-States</th>\n",
       "      <th>race_ White_sex_ Female</th>\n",
       "      <th>race_ White_sex_ Male</th>\n",
       "      <th>race_ White_native_country_Other</th>\n",
       "      <th>race_ White_native_country_United-States</th>\n",
       "      <th>sex_ Female_native_country_Other</th>\n",
       "      <th>sex_ Female_native_country_United-States</th>\n",
       "      <th>sex_ Male_native_country_Other</th>\n",
       "      <th>sex_ Male_native_country_United-States</th>\n",
       "    </tr>\n",
       "  </thead>\n",
       "  <tbody>\n",
       "    <tr>\n",
       "      <th>0</th>\n",
       "      <td>39.0</td>\n",
       "      <td>77516.0</td>\n",
       "      <td>13.0</td>\n",
       "      <td>2174.0</td>\n",
       "      <td>0.0</td>\n",
       "      <td>40.0</td>\n",
       "      <td>0.0</td>\n",
       "      <td>0.0</td>\n",
       "      <td>0.0</td>\n",
       "      <td>0.0</td>\n",
       "      <td>...</td>\n",
       "      <td>0.0</td>\n",
       "      <td>0.0</td>\n",
       "      <td>0.0</td>\n",
       "      <td>1.0</td>\n",
       "      <td>0.0</td>\n",
       "      <td>1.0</td>\n",
       "      <td>0.0</td>\n",
       "      <td>0.0</td>\n",
       "      <td>0.0</td>\n",
       "      <td>1.0</td>\n",
       "    </tr>\n",
       "    <tr>\n",
       "      <th>1</th>\n",
       "      <td>50.0</td>\n",
       "      <td>83311.0</td>\n",
       "      <td>13.0</td>\n",
       "      <td>0.0</td>\n",
       "      <td>0.0</td>\n",
       "      <td>13.0</td>\n",
       "      <td>0.0</td>\n",
       "      <td>0.0</td>\n",
       "      <td>0.0</td>\n",
       "      <td>0.0</td>\n",
       "      <td>...</td>\n",
       "      <td>0.0</td>\n",
       "      <td>0.0</td>\n",
       "      <td>0.0</td>\n",
       "      <td>1.0</td>\n",
       "      <td>0.0</td>\n",
       "      <td>1.0</td>\n",
       "      <td>0.0</td>\n",
       "      <td>0.0</td>\n",
       "      <td>0.0</td>\n",
       "      <td>1.0</td>\n",
       "    </tr>\n",
       "    <tr>\n",
       "      <th>2</th>\n",
       "      <td>38.0</td>\n",
       "      <td>215646.0</td>\n",
       "      <td>9.0</td>\n",
       "      <td>0.0</td>\n",
       "      <td>0.0</td>\n",
       "      <td>40.0</td>\n",
       "      <td>0.0</td>\n",
       "      <td>0.0</td>\n",
       "      <td>0.0</td>\n",
       "      <td>1.0</td>\n",
       "      <td>...</td>\n",
       "      <td>0.0</td>\n",
       "      <td>0.0</td>\n",
       "      <td>0.0</td>\n",
       "      <td>1.0</td>\n",
       "      <td>0.0</td>\n",
       "      <td>1.0</td>\n",
       "      <td>0.0</td>\n",
       "      <td>0.0</td>\n",
       "      <td>0.0</td>\n",
       "      <td>1.0</td>\n",
       "    </tr>\n",
       "    <tr>\n",
       "      <th>3</th>\n",
       "      <td>53.0</td>\n",
       "      <td>234721.0</td>\n",
       "      <td>7.0</td>\n",
       "      <td>0.0</td>\n",
       "      <td>0.0</td>\n",
       "      <td>40.0</td>\n",
       "      <td>0.0</td>\n",
       "      <td>0.0</td>\n",
       "      <td>0.0</td>\n",
       "      <td>1.0</td>\n",
       "      <td>...</td>\n",
       "      <td>0.0</td>\n",
       "      <td>0.0</td>\n",
       "      <td>0.0</td>\n",
       "      <td>0.0</td>\n",
       "      <td>0.0</td>\n",
       "      <td>0.0</td>\n",
       "      <td>0.0</td>\n",
       "      <td>0.0</td>\n",
       "      <td>0.0</td>\n",
       "      <td>1.0</td>\n",
       "    </tr>\n",
       "    <tr>\n",
       "      <th>4</th>\n",
       "      <td>28.0</td>\n",
       "      <td>338409.0</td>\n",
       "      <td>13.0</td>\n",
       "      <td>0.0</td>\n",
       "      <td>0.0</td>\n",
       "      <td>40.0</td>\n",
       "      <td>0.0</td>\n",
       "      <td>0.0</td>\n",
       "      <td>0.0</td>\n",
       "      <td>1.0</td>\n",
       "      <td>...</td>\n",
       "      <td>0.0</td>\n",
       "      <td>0.0</td>\n",
       "      <td>0.0</td>\n",
       "      <td>0.0</td>\n",
       "      <td>0.0</td>\n",
       "      <td>0.0</td>\n",
       "      <td>1.0</td>\n",
       "      <td>0.0</td>\n",
       "      <td>0.0</td>\n",
       "      <td>0.0</td>\n",
       "    </tr>\n",
       "  </tbody>\n",
       "</table>\n",
       "<p>5 rows × 1771 columns</p>\n",
       "</div>"
      ],
      "text/plain": [
       "    age    fnlwgt  education_num  capital_gain  capital_loss  hours_per_week  \\\n",
       "0  39.0   77516.0           13.0        2174.0           0.0            40.0   \n",
       "1  50.0   83311.0           13.0           0.0           0.0            13.0   \n",
       "2  38.0  215646.0            9.0           0.0           0.0            40.0   \n",
       "3  53.0  234721.0            7.0           0.0           0.0            40.0   \n",
       "4  28.0  338409.0           13.0           0.0           0.0            40.0   \n",
       "\n",
       "   workclass_ Federal-gov  workclass_ Local-gov  workclass_ Never-worked  \\\n",
       "0                     0.0                   0.0                      0.0   \n",
       "1                     0.0                   0.0                      0.0   \n",
       "2                     0.0                   0.0                      0.0   \n",
       "3                     0.0                   0.0                      0.0   \n",
       "4                     0.0                   0.0                      0.0   \n",
       "\n",
       "   workclass_ Private  ...  race_ Other_native_country_Other  \\\n",
       "0                 0.0  ...                               0.0   \n",
       "1                 0.0  ...                               0.0   \n",
       "2                 1.0  ...                               0.0   \n",
       "3                 1.0  ...                               0.0   \n",
       "4                 1.0  ...                               0.0   \n",
       "\n",
       "   race_ Other_native_country_United-States  race_ White_sex_ Female  \\\n",
       "0                                       0.0                      0.0   \n",
       "1                                       0.0                      0.0   \n",
       "2                                       0.0                      0.0   \n",
       "3                                       0.0                      0.0   \n",
       "4                                       0.0                      0.0   \n",
       "\n",
       "   race_ White_sex_ Male  race_ White_native_country_Other  \\\n",
       "0                    1.0                               0.0   \n",
       "1                    1.0                               0.0   \n",
       "2                    1.0                               0.0   \n",
       "3                    0.0                               0.0   \n",
       "4                    0.0                               0.0   \n",
       "\n",
       "   race_ White_native_country_United-States  sex_ Female_native_country_Other  \\\n",
       "0                                       1.0                               0.0   \n",
       "1                                       1.0                               0.0   \n",
       "2                                       1.0                               0.0   \n",
       "3                                       0.0                               0.0   \n",
       "4                                       0.0                               1.0   \n",
       "\n",
       "   sex_ Female_native_country_United-States  sex_ Male_native_country_Other  \\\n",
       "0                                       0.0                             0.0   \n",
       "1                                       0.0                             0.0   \n",
       "2                                       0.0                             0.0   \n",
       "3                                       0.0                             0.0   \n",
       "4                                       0.0                             0.0   \n",
       "\n",
       "   sex_ Male_native_country_United-States  \n",
       "0                                     1.0  \n",
       "1                                     1.0  \n",
       "2                                     1.0  \n",
       "3                                     1.0  \n",
       "4                                     0.0  \n",
       "\n",
       "[5 rows x 1771 columns]"
      ]
     },
     "execution_count": 37,
     "metadata": {},
     "output_type": "execute_result"
    }
   ],
   "source": [
    "X = add_interactions(X)\n",
    "X.head()"
   ]
  },
  {
   "cell_type": "markdown",
   "id": "42ac4596",
   "metadata": {},
   "source": [
    "### B. Dimensionality reduction using PCA"
   ]
  },
  {
   "cell_type": "markdown",
   "id": "23360ef4",
   "metadata": {},
   "source": [
    "- Principal Component Analysis (PCA) is a technique that transforms a dataset of many features into principal components that \"summarize\" the variance that underlies the data\n",
    "- Each principal component is calculated by finding the linear combination of features that maximizes variance, while also ensuring zero correlation with the previously calculated principal components\n",
    "- Use cases for modeling:\n",
    "    - One of the most common dimensionality reduction techniques\n",
    "    - Use if there are too many features or if observation/feature ratio is poor\n",
    "    - Also, potentially good option if there are a lot of highly correlated variables in your dataset\n",
    "- Unfortunately, PCA makes models a lot harder to interpret"
   ]
  },
  {
   "cell_type": "code",
   "execution_count": 38,
   "id": "9bd536ba",
   "metadata": {},
   "outputs": [],
   "source": [
    "# Use PCA from sklearn.decomposition to find principal components\n",
    "from sklearn.decomposition import PCA"
   ]
  },
  {
   "cell_type": "code",
   "execution_count": 39,
   "id": "cd9ef5dd",
   "metadata": {},
   "outputs": [
    {
     "data": {
      "text/html": [
       "<div>\n",
       "<style scoped>\n",
       "    .dataframe tbody tr th:only-of-type {\n",
       "        vertical-align: middle;\n",
       "    }\n",
       "\n",
       "    .dataframe tbody tr th {\n",
       "        vertical-align: top;\n",
       "    }\n",
       "\n",
       "    .dataframe thead th {\n",
       "        text-align: right;\n",
       "    }\n",
       "</style>\n",
       "<table border=\"1\" class=\"dataframe\">\n",
       "  <thead>\n",
       "    <tr style=\"text-align: right;\">\n",
       "      <th></th>\n",
       "      <th>0</th>\n",
       "      <th>1</th>\n",
       "      <th>2</th>\n",
       "      <th>3</th>\n",
       "      <th>4</th>\n",
       "      <th>5</th>\n",
       "      <th>6</th>\n",
       "      <th>7</th>\n",
       "      <th>8</th>\n",
       "      <th>9</th>\n",
       "    </tr>\n",
       "  </thead>\n",
       "  <tbody>\n",
       "    <tr>\n",
       "      <th>0</th>\n",
       "      <td>-3.631343e+07</td>\n",
       "      <td>-1.623399e+07</td>\n",
       "      <td>-6.090999e+06</td>\n",
       "      <td>1.478304e+04</td>\n",
       "      <td>5.906808e+04</td>\n",
       "      <td>-41925.550508</td>\n",
       "      <td>2923.111287</td>\n",
       "      <td>30010.086691</td>\n",
       "      <td>-112172.698287</td>\n",
       "      <td>34338.315783</td>\n",
       "    </tr>\n",
       "    <tr>\n",
       "      <th>1</th>\n",
       "      <td>-2.048334e+08</td>\n",
       "      <td>-1.645420e+07</td>\n",
       "      <td>-6.697985e+06</td>\n",
       "      <td>2.217482e+06</td>\n",
       "      <td>3.099297e+05</td>\n",
       "      <td>32056.565790</td>\n",
       "      <td>-141484.816198</td>\n",
       "      <td>43094.713335</td>\n",
       "      <td>-42585.045255</td>\n",
       "      <td>20203.083360</td>\n",
       "    </tr>\n",
       "    <tr>\n",
       "      <th>2</th>\n",
       "      <td>-2.048297e+08</td>\n",
       "      <td>-1.638053e+07</td>\n",
       "      <td>1.615325e+06</td>\n",
       "      <td>6.853525e+04</td>\n",
       "      <td>-1.617466e+05</td>\n",
       "      <td>16124.082150</td>\n",
       "      <td>98890.181358</td>\n",
       "      <td>-125219.305502</td>\n",
       "      <td>-62797.663024</td>\n",
       "      <td>166480.647877</td>\n",
       "    </tr>\n",
       "    <tr>\n",
       "      <th>3</th>\n",
       "      <td>-2.048282e+08</td>\n",
       "      <td>-1.634992e+07</td>\n",
       "      <td>4.971564e+06</td>\n",
       "      <td>2.694697e+06</td>\n",
       "      <td>-9.003592e+05</td>\n",
       "      <td>13700.805817</td>\n",
       "      <td>-128169.367384</td>\n",
       "      <td>-41359.158352</td>\n",
       "      <td>21439.189113</td>\n",
       "      <td>1228.967387</td>\n",
       "    </tr>\n",
       "    <tr>\n",
       "      <th>4</th>\n",
       "      <td>-2.048275e+08</td>\n",
       "      <td>-1.633769e+07</td>\n",
       "      <td>6.408554e+06</td>\n",
       "      <td>-2.375526e+06</td>\n",
       "      <td>1.512329e+06</td>\n",
       "      <td>-49508.725550</td>\n",
       "      <td>-9601.193360</td>\n",
       "      <td>467215.741915</td>\n",
       "      <td>160363.942031</td>\n",
       "      <td>26914.073389</td>\n",
       "    </tr>\n",
       "  </tbody>\n",
       "</table>\n",
       "</div>"
      ],
      "text/plain": [
       "              0             1             2             3             4  \\\n",
       "0 -3.631343e+07 -1.623399e+07 -6.090999e+06  1.478304e+04  5.906808e+04   \n",
       "1 -2.048334e+08 -1.645420e+07 -6.697985e+06  2.217482e+06  3.099297e+05   \n",
       "2 -2.048297e+08 -1.638053e+07  1.615325e+06  6.853525e+04 -1.617466e+05   \n",
       "3 -2.048282e+08 -1.634992e+07  4.971564e+06  2.694697e+06 -9.003592e+05   \n",
       "4 -2.048275e+08 -1.633769e+07  6.408554e+06 -2.375526e+06  1.512329e+06   \n",
       "\n",
       "              5              6              7              8              9  \n",
       "0 -41925.550508    2923.111287   30010.086691 -112172.698287   34338.315783  \n",
       "1  32056.565790 -141484.816198   43094.713335  -42585.045255   20203.083360  \n",
       "2  16124.082150   98890.181358 -125219.305502  -62797.663024  166480.647877  \n",
       "3  13700.805817 -128169.367384  -41359.158352   21439.189113    1228.967387  \n",
       "4 -49508.725550   -9601.193360  467215.741915  160363.942031   26914.073389  "
      ]
     },
     "execution_count": 39,
     "metadata": {},
     "output_type": "execute_result"
    }
   ],
   "source": [
    "pca = PCA(n_components=10)\n",
    "X_pca = pd.DataFrame(pca.fit_transform(X))\n",
    "X_pca.head()"
   ]
  },
  {
   "cell_type": "markdown",
   "id": "ae66fde6",
   "metadata": {},
   "source": [
    "## Part 6: Feature selection and model building"
   ]
  },
  {
   "cell_type": "markdown",
   "id": "4157a70d",
   "metadata": {},
   "source": [
    "### Build model using processed data"
   ]
  },
  {
   "cell_type": "code",
   "execution_count": 40,
   "id": "1d47127b",
   "metadata": {},
   "outputs": [],
   "source": [
    "# Use train_test_split in sklearn.cross_validation to split data into train and test sets\n",
    "from sklearn.model_selection import train_test_split\n",
    "\n",
    "X_train, X_test, y_train, y_test = train_test_split(X, y, train_size=0.7, random_state=1)"
   ]
  },
  {
   "cell_type": "code",
   "execution_count": 41,
   "id": "dedb8c0e",
   "metadata": {},
   "outputs": [
    {
     "data": {
      "text/plain": [
       "(32561, 1771)"
      ]
     },
     "execution_count": 41,
     "metadata": {},
     "output_type": "execute_result"
    }
   ],
   "source": [
    "# The total number of features have grown substantially after dummying and adding interaction terms\n",
    "X.shape"
   ]
  },
  {
   "cell_type": "code",
   "execution_count": 42,
   "id": "7b1e564a",
   "metadata": {},
   "outputs": [
    {
     "name": "stderr",
     "output_type": "stream",
     "text": [
      "/Users/sp-square/opt/anaconda3/envs/virtual_workspace/lib/python3.8/site-packages/sklearn/feature_selection/_univariate_selection.py:112: UserWarning: Features [ 438  439  535  538  541  714  747  752  754  761  764  890 1126 1127\n",
      " 1259 1286 1348 1351 1353 1511] are constant.\n",
      "  warnings.warn(\"Features %s are constant.\" % constant_features_idx, UserWarning)\n",
      "/Users/sp-square/opt/anaconda3/envs/virtual_workspace/lib/python3.8/site-packages/sklearn/feature_selection/_univariate_selection.py:113: RuntimeWarning: invalid value encountered in true_divide\n",
      "  f = msb / msw\n"
     ]
    },
    {
     "data": {
      "text/plain": [
       "['education_num',\n",
       " 'marital_status_ Married-civ-spouse',\n",
       " 'relationship_ Husband',\n",
       " 'age_education_num',\n",
       " 'age_marital_status_ Married-civ-spouse',\n",
       " 'age_relationship_ Husband',\n",
       " 'fnlwgt_marital_status_ Married-civ-spouse',\n",
       " 'fnlwgt_relationship_ Husband',\n",
       " 'education_num_hours_per_week',\n",
       " 'education_num_marital_status_ Married-civ-spouse',\n",
       " 'education_num_relationship_ Husband',\n",
       " 'hours_per_week_marital_status_ Married-civ-spouse',\n",
       " 'hours_per_week_relationship_ Husband',\n",
       " 'marital_status_ Married-civ-spouse_relationship_ Husband',\n",
       " 'marital_status_ Married-civ-spouse_race_ White',\n",
       " 'marital_status_ Married-civ-spouse_sex_ Male',\n",
       " 'marital_status_ Married-civ-spouse_native_country_United-States',\n",
       " 'relationship_ Husband_race_ White',\n",
       " 'relationship_ Husband_sex_ Male',\n",
       " 'relationship_ Husband_native_country_United-States']"
      ]
     },
     "execution_count": 42,
     "metadata": {},
     "output_type": "execute_result"
    }
   ],
   "source": [
    "# Such a large set of features can cause overfitting and also slow computing\n",
    "# Use feature selection to select the most important features\n",
    "import sklearn.feature_selection as fs\n",
    "\n",
    "select = fs.SelectKBest(k=20)\n",
    "selected_features = select.fit(X_train, y_train)\n",
    "indices_selected = selected_features.get_support(indices=True)\n",
    "colnames_selected = [X.columns[i] for i in indices_selected]\n",
    "colnames_selected"
   ]
  },
  {
   "cell_type": "code",
   "execution_count": 43,
   "id": "6e90de07",
   "metadata": {},
   "outputs": [],
   "source": [
    "X_train_selected = X_train[colnames_selected]\n",
    "X_test_selected = X_test[colnames_selected]"
   ]
  },
  {
   "cell_type": "code",
   "execution_count": 44,
   "id": "a0bb6c70",
   "metadata": {},
   "outputs": [],
   "source": [
    "from sklearn.linear_model import LogisticRegression\n",
    "from sklearn.metrics import roc_auc_score"
   ]
  },
  {
   "cell_type": "code",
   "execution_count": 45,
   "id": "62a9149d",
   "metadata": {},
   "outputs": [],
   "source": [
    "def find_model_perf(X_train, y_train, X_test, y_test):\n",
    "    model = LogisticRegression()\n",
    "    model.fit(X_train, y_train)\n",
    "    y_hat = [x[1] for x in model.predict_proba(X_test)]\n",
    "    auc = roc_auc_score(y_test, y_hat)\n",
    "    \n",
    "    return auc"
   ]
  },
  {
   "cell_type": "code",
   "execution_count": 46,
   "id": "18f8dbd5",
   "metadata": {},
   "outputs": [
    {
     "data": {
      "text/plain": [
       "0.6354440727133813"
      ]
     },
     "execution_count": 46,
     "metadata": {},
     "output_type": "execute_result"
    }
   ],
   "source": [
    "auc_processed = find_model_perf(X_train_selected, y_train, X_test_selected, y_test)\n",
    "auc_processed"
   ]
  },
  {
   "cell_type": "markdown",
   "id": "4eeb8127",
   "metadata": {},
   "source": [
    "### Build model using unprocessed data"
   ]
  },
  {
   "cell_type": "code",
   "execution_count": 47,
   "id": "b2f9b698",
   "metadata": {},
   "outputs": [
    {
     "name": "stdout",
     "output_type": "stream",
     "text": [
      "(32561, 15)\n",
      "(30162, 15)\n"
     ]
    }
   ],
   "source": [
    "# Drop missing values so model does not throw any error\n",
    "df_unprocessed = df\n",
    "df_unprocessed = df_unprocessed.dropna(axis=0, how='any')\n",
    "print(df.shape)\n",
    "print(df_unprocessed.shape)"
   ]
  },
  {
   "cell_type": "code",
   "execution_count": 48,
   "id": "db27d594",
   "metadata": {},
   "outputs": [
    {
     "name": "stderr",
     "output_type": "stream",
     "text": [
      "/var/folders/pp/6rmcj3hs5l75h5cs_9gktph00000gn/T/ipykernel_16601/1561930639.py:4: FutureWarning: In a future version of pandas all arguments of DataFrame.drop except for the argument 'labels' will be keyword-only\n",
      "  df_unprocessed = df_unprocessed.drop(col_name, 1)\n"
     ]
    }
   ],
   "source": [
    "# remove non-numeric columns so model does not throw an error\n",
    "for col_name in df_unprocessed.columns:\n",
    "    if df_unprocessed[col_name].dtypes not in ['int32', 'int64', 'float32', 'float64']:\n",
    "        df_unprocessed = df_unprocessed.drop(col_name, 1)"
   ]
  },
  {
   "cell_type": "code",
   "execution_count": 49,
   "id": "a2f45550",
   "metadata": {},
   "outputs": [
    {
     "name": "stderr",
     "output_type": "stream",
     "text": [
      "/var/folders/pp/6rmcj3hs5l75h5cs_9gktph00000gn/T/ipykernel_16601/3186292285.py:2: FutureWarning: In a future version of pandas all arguments of DataFrame.drop except for the argument 'labels' will be keyword-only\n",
      "  X_unprocessed = df_unprocessed.drop('income', 1)\n"
     ]
    }
   ],
   "source": [
    "# Split into features and outcomes\n",
    "X_unprocessed = df_unprocessed.drop('income', 1)\n",
    "y_unprocessed = df_unprocessed.income"
   ]
  },
  {
   "cell_type": "code",
   "execution_count": 50,
   "id": "cfd00d7b",
   "metadata": {},
   "outputs": [
    {
     "data": {
      "text/html": [
       "<div>\n",
       "<style scoped>\n",
       "    .dataframe tbody tr th:only-of-type {\n",
       "        vertical-align: middle;\n",
       "    }\n",
       "\n",
       "    .dataframe tbody tr th {\n",
       "        vertical-align: top;\n",
       "    }\n",
       "\n",
       "    .dataframe thead th {\n",
       "        text-align: right;\n",
       "    }\n",
       "</style>\n",
       "<table border=\"1\" class=\"dataframe\">\n",
       "  <thead>\n",
       "    <tr style=\"text-align: right;\">\n",
       "      <th></th>\n",
       "      <th>age</th>\n",
       "      <th>fnlwgt</th>\n",
       "      <th>education_num</th>\n",
       "      <th>capital_gain</th>\n",
       "      <th>capital_loss</th>\n",
       "      <th>hours_per_week</th>\n",
       "    </tr>\n",
       "  </thead>\n",
       "  <tbody>\n",
       "    <tr>\n",
       "      <th>0</th>\n",
       "      <td>39</td>\n",
       "      <td>77516</td>\n",
       "      <td>13</td>\n",
       "      <td>2174</td>\n",
       "      <td>0</td>\n",
       "      <td>40</td>\n",
       "    </tr>\n",
       "    <tr>\n",
       "      <th>1</th>\n",
       "      <td>50</td>\n",
       "      <td>83311</td>\n",
       "      <td>13</td>\n",
       "      <td>0</td>\n",
       "      <td>0</td>\n",
       "      <td>13</td>\n",
       "    </tr>\n",
       "    <tr>\n",
       "      <th>2</th>\n",
       "      <td>38</td>\n",
       "      <td>215646</td>\n",
       "      <td>9</td>\n",
       "      <td>0</td>\n",
       "      <td>0</td>\n",
       "      <td>40</td>\n",
       "    </tr>\n",
       "    <tr>\n",
       "      <th>3</th>\n",
       "      <td>53</td>\n",
       "      <td>234721</td>\n",
       "      <td>7</td>\n",
       "      <td>0</td>\n",
       "      <td>0</td>\n",
       "      <td>40</td>\n",
       "    </tr>\n",
       "    <tr>\n",
       "      <th>4</th>\n",
       "      <td>28</td>\n",
       "      <td>338409</td>\n",
       "      <td>13</td>\n",
       "      <td>0</td>\n",
       "      <td>0</td>\n",
       "      <td>40</td>\n",
       "    </tr>\n",
       "  </tbody>\n",
       "</table>\n",
       "</div>"
      ],
      "text/plain": [
       "   age  fnlwgt  education_num  capital_gain  capital_loss  hours_per_week\n",
       "0   39   77516             13          2174             0              40\n",
       "1   50   83311             13             0             0              13\n",
       "2   38  215646              9             0             0              40\n",
       "3   53  234721              7             0             0              40\n",
       "4   28  338409             13             0             0              40"
      ]
     },
     "execution_count": 50,
     "metadata": {},
     "output_type": "execute_result"
    }
   ],
   "source": [
    "# Take a look again at what the unprocessed feature set looks like\n",
    "X_unprocessed.head()"
   ]
  },
  {
   "cell_type": "code",
   "execution_count": 51,
   "id": "cb1556fc",
   "metadata": {},
   "outputs": [
    {
     "data": {
      "text/plain": [
       "0.5760768259842989"
      ]
     },
     "execution_count": 51,
     "metadata": {},
     "output_type": "execute_result"
    }
   ],
   "source": [
    "# Split unprocessed data into train and test set\n",
    "# Build model and assess performance\n",
    "X_train_unprocessed, X_test_unprocessed, y_train, y_test = train_test_split(X_unprocessed, y_unprocessed, train_size=0.7, random_state=1)\n",
    "\n",
    "auc_unprocessed = find_model_perf(X_train_unprocessed, y_train, X_test_unprocessed, y_test)\n",
    "auc_unprocessed\n"
   ]
  },
  {
   "cell_type": "code",
   "execution_count": 52,
   "id": "b5408d8b",
   "metadata": {},
   "outputs": [
    {
     "name": "stdout",
     "output_type": "stream",
     "text": [
      "AUC of model with data preprocessing: 0.6354440727133813\n",
      "AUC of model without data preprocessing: 0.5760768259842989\n",
      "Model improvement of preprocessing: 10.305439144795683\n"
     ]
    }
   ],
   "source": [
    "# Compare model performance\n",
    "print(f'AUC of model with data preprocessing: {auc_processed}')\n",
    "print(f'AUC of model without data preprocessing: {auc_unprocessed}')\n",
    "per_improve = ((auc_processed-auc_unprocessed) / auc_unprocessed) * 100\n",
    "print(f'Model improvement of preprocessing: {per_improve}')"
   ]
  },
  {
   "cell_type": "code",
   "execution_count": null,
   "id": "61db2fd8",
   "metadata": {},
   "outputs": [],
   "source": []
  }
 ],
 "metadata": {
  "kernelspec": {
   "display_name": "Python 3 (ipykernel)",
   "language": "python",
   "name": "python3"
  },
  "language_info": {
   "codemirror_mode": {
    "name": "ipython",
    "version": 3
   },
   "file_extension": ".py",
   "mimetype": "text/x-python",
   "name": "python",
   "nbconvert_exporter": "python",
   "pygments_lexer": "ipython3",
   "version": "3.8.12"
  }
 },
 "nbformat": 4,
 "nbformat_minor": 5
}
